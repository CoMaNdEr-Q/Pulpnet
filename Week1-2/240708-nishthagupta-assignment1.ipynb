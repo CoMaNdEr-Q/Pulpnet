{
 "cells": [
  {
   "cell_type": "markdown",
   "id": "a281088a",
   "metadata": {
    "id": "ZBl05iCqw0gT",
    "papermill": {
     "duration": 0.007521,
     "end_time": "2025-06-04T11:06:39.345291",
     "exception": false,
     "start_time": "2025-06-04T11:06:39.337770",
     "status": "completed"
    },
    "tags": []
   },
   "source": [
    "# **Importing Libraries**\n"
   ]
  },
  {
   "cell_type": "code",
   "execution_count": 1,
   "id": "c5d5baf4",
   "metadata": {
    "execution": {
     "iopub.execute_input": "2025-06-04T11:06:39.359166Z",
     "iopub.status.busy": "2025-06-04T11:06:39.358789Z",
     "iopub.status.idle": "2025-06-04T11:07:30.125589Z",
     "shell.execute_reply": "2025-06-04T11:07:30.124514Z"
    },
    "executionInfo": {
     "elapsed": 64343,
     "status": "ok",
     "timestamp": 1748860019585,
     "user": {
      "displayName": "Nishtha Gupta",
      "userId": "10443862536462505588"
     },
     "user_tz": -330
    },
    "id": "ymoXCzCsfKp6",
    "outputId": "ecec6c1b-72c4-4b26-8be6-882f9861f19c",
    "papermill": {
     "duration": 50.776031,
     "end_time": "2025-06-04T11:07:30.127690",
     "exception": false,
     "start_time": "2025-06-04T11:06:39.351659",
     "status": "completed"
    },
    "tags": []
   },
   "outputs": [
    {
     "name": "stdout",
     "output_type": "stream",
     "text": [
      "Collecting numpy\r\n",
      "  Downloading numpy-2.2.6-cp311-cp311-manylinux_2_17_x86_64.manylinux2014_x86_64.whl.metadata (62 kB)\r\n",
      "\u001b[2K     \u001b[90m━━━━━━━━━━━━━━━━━━━━━━━━━━━━━━━━━━━━━━━━\u001b[0m \u001b[32m62.0/62.0 kB\u001b[0m \u001b[31m1.9 MB/s\u001b[0m eta \u001b[36m0:00:00\u001b[0m\r\n",
      "\u001b[?25hCollecting gensim\r\n",
      "  Downloading gensim-4.3.3-cp311-cp311-manylinux_2_17_x86_64.manylinux2014_x86_64.whl.metadata (8.1 kB)\r\n",
      "Collecting pandas\r\n",
      "  Downloading pandas-2.2.3-cp311-cp311-manylinux_2_17_x86_64.manylinux2014_x86_64.whl.metadata (89 kB)\r\n",
      "\u001b[2K     \u001b[90m━━━━━━━━━━━━━━━━━━━━━━━━━━━━━━━━━━━━━━━━\u001b[0m \u001b[32m89.9/89.9 kB\u001b[0m \u001b[31m3.6 MB/s\u001b[0m eta \u001b[36m0:00:00\u001b[0m\r\n",
      "\u001b[?25hCollecting numpy\r\n",
      "  Downloading numpy-1.26.4-cp311-cp311-manylinux_2_17_x86_64.manylinux2014_x86_64.whl.metadata (61 kB)\r\n",
      "\u001b[2K     \u001b[90m━━━━━━━━━━━━━━━━━━━━━━━━━━━━━━━━━━━━━━━━\u001b[0m \u001b[32m61.0/61.0 kB\u001b[0m \u001b[31m2.7 MB/s\u001b[0m eta \u001b[36m0:00:00\u001b[0m\r\n",
      "\u001b[?25hCollecting scipy<1.14.0,>=1.7.0 (from gensim)\r\n",
      "  Downloading scipy-1.13.1-cp311-cp311-manylinux_2_17_x86_64.manylinux2014_x86_64.whl.metadata (60 kB)\r\n",
      "\u001b[2K     \u001b[90m━━━━━━━━━━━━━━━━━━━━━━━━━━━━━━━━━━━━━━━━\u001b[0m \u001b[32m60.6/60.6 kB\u001b[0m \u001b[31m2.9 MB/s\u001b[0m eta \u001b[36m0:00:00\u001b[0m\r\n",
      "\u001b[?25hCollecting smart-open>=1.8.1 (from gensim)\r\n",
      "  Downloading smart_open-7.1.0-py3-none-any.whl.metadata (24 kB)\r\n",
      "Collecting python-dateutil>=2.8.2 (from pandas)\r\n",
      "  Downloading python_dateutil-2.9.0.post0-py2.py3-none-any.whl.metadata (8.4 kB)\r\n",
      "Collecting pytz>=2020.1 (from pandas)\r\n",
      "  Downloading pytz-2025.2-py2.py3-none-any.whl.metadata (22 kB)\r\n",
      "Collecting tzdata>=2022.7 (from pandas)\r\n",
      "  Downloading tzdata-2025.2-py2.py3-none-any.whl.metadata (1.4 kB)\r\n",
      "Collecting six>=1.5 (from python-dateutil>=2.8.2->pandas)\r\n",
      "  Downloading six-1.17.0-py2.py3-none-any.whl.metadata (1.7 kB)\r\n",
      "Collecting wrapt (from smart-open>=1.8.1->gensim)\r\n",
      "  Downloading wrapt-1.17.2-cp311-cp311-manylinux_2_5_x86_64.manylinux1_x86_64.manylinux_2_17_x86_64.manylinux2014_x86_64.whl.metadata (6.4 kB)\r\n",
      "Downloading gensim-4.3.3-cp311-cp311-manylinux_2_17_x86_64.manylinux2014_x86_64.whl (26.7 MB)\r\n",
      "\u001b[2K   \u001b[90m━━━━━━━━━━━━━━━━━━━━━━━━━━━━━━━━━━━━━━━━\u001b[0m \u001b[32m26.7/26.7 MB\u001b[0m \u001b[31m56.5 MB/s\u001b[0m eta \u001b[36m0:00:00\u001b[0m\r\n",
      "\u001b[?25hDownloading numpy-1.26.4-cp311-cp311-manylinux_2_17_x86_64.manylinux2014_x86_64.whl (18.3 MB)\r\n",
      "\u001b[2K   \u001b[90m━━━━━━━━━━━━━━━━━━━━━━━━━━━━━━━━━━━━━━━━\u001b[0m \u001b[32m18.3/18.3 MB\u001b[0m \u001b[31m70.0 MB/s\u001b[0m eta \u001b[36m0:00:00\u001b[0m\r\n",
      "\u001b[?25hDownloading pandas-2.2.3-cp311-cp311-manylinux_2_17_x86_64.manylinux2014_x86_64.whl (13.1 MB)\r\n",
      "\u001b[2K   \u001b[90m━━━━━━━━━━━━━━━━━━━━━━━━━━━━━━━━━━━━━━━━\u001b[0m \u001b[32m13.1/13.1 MB\u001b[0m \u001b[31m76.6 MB/s\u001b[0m eta \u001b[36m0:00:00\u001b[0m\r\n",
      "\u001b[?25hDownloading python_dateutil-2.9.0.post0-py2.py3-none-any.whl (229 kB)\r\n",
      "\u001b[2K   \u001b[90m━━━━━━━━━━━━━━━━━━━━━━━━━━━━━━━━━━━━━━━━\u001b[0m \u001b[32m229.9/229.9 kB\u001b[0m \u001b[31m10.7 MB/s\u001b[0m eta \u001b[36m0:00:00\u001b[0m\r\n",
      "\u001b[?25hDownloading pytz-2025.2-py2.py3-none-any.whl (509 kB)\r\n",
      "\u001b[2K   \u001b[90m━━━━━━━━━━━━━━━━━━━━━━━━━━━━━━━━━━━━━━━━\u001b[0m \u001b[32m509.2/509.2 kB\u001b[0m \u001b[31m22.9 MB/s\u001b[0m eta \u001b[36m0:00:00\u001b[0m\r\n",
      "\u001b[?25hDownloading scipy-1.13.1-cp311-cp311-manylinux_2_17_x86_64.manylinux2014_x86_64.whl (38.6 MB)\r\n",
      "\u001b[2K   \u001b[90m━━━━━━━━━━━━━━━━━━━━━━━━━━━━━━━━━━━━━━━━\u001b[0m \u001b[32m38.6/38.6 MB\u001b[0m \u001b[31m38.4 MB/s\u001b[0m eta \u001b[36m0:00:00\u001b[0m\r\n",
      "\u001b[?25hDownloading smart_open-7.1.0-py3-none-any.whl (61 kB)\r\n",
      "\u001b[2K   \u001b[90m━━━━━━━━━━━━━━━━━━━━━━━━━━━━━━━━━━━━━━━━\u001b[0m \u001b[32m61.7/61.7 kB\u001b[0m \u001b[31m2.9 MB/s\u001b[0m eta \u001b[36m0:00:00\u001b[0m\r\n",
      "\u001b[?25hDownloading tzdata-2025.2-py2.py3-none-any.whl (347 kB)\r\n",
      "\u001b[2K   \u001b[90m━━━━━━━━━━━━━━━━━━━━━━━━━━━━━━━━━━━━━━━━\u001b[0m \u001b[32m347.8/347.8 kB\u001b[0m \u001b[31m14.1 MB/s\u001b[0m eta \u001b[36m0:00:00\u001b[0m\r\n",
      "\u001b[?25hDownloading six-1.17.0-py2.py3-none-any.whl (11 kB)\r\n",
      "Downloading wrapt-1.17.2-cp311-cp311-manylinux_2_5_x86_64.manylinux1_x86_64.manylinux_2_17_x86_64.manylinux2014_x86_64.whl (83 kB)\r\n",
      "\u001b[2K   \u001b[90m━━━━━━━━━━━━━━━━━━━━━━━━━━━━━━━━━━━━━━━━\u001b[0m \u001b[32m83.2/83.2 kB\u001b[0m \u001b[31m3.8 MB/s\u001b[0m eta \u001b[36m0:00:00\u001b[0m\r\n",
      "\u001b[?25hInstalling collected packages: pytz, wrapt, tzdata, six, numpy, smart-open, scipy, python-dateutil, pandas, gensim\r\n",
      "  Attempting uninstall: pytz\r\n",
      "    Found existing installation: pytz 2025.2\r\n",
      "    Uninstalling pytz-2025.2:\r\n",
      "      Successfully uninstalled pytz-2025.2\r\n",
      "  Attempting uninstall: wrapt\r\n",
      "    Found existing installation: wrapt 1.17.2\r\n",
      "    Uninstalling wrapt-1.17.2:\r\n",
      "      Successfully uninstalled wrapt-1.17.2\r\n",
      "  Attempting uninstall: tzdata\r\n",
      "    Found existing installation: tzdata 2025.2\r\n",
      "    Uninstalling tzdata-2025.2:\r\n",
      "      Successfully uninstalled tzdata-2025.2\r\n",
      "  Attempting uninstall: six\r\n",
      "    Found existing installation: six 1.17.0\r\n",
      "    Uninstalling six-1.17.0:\r\n",
      "      Successfully uninstalled six-1.17.0\r\n",
      "  Attempting uninstall: numpy\r\n",
      "    Found existing installation: numpy 1.26.4\r\n",
      "    Uninstalling numpy-1.26.4:\r\n",
      "      Successfully uninstalled numpy-1.26.4\r\n",
      "  Attempting uninstall: smart-open\r\n",
      "    Found existing installation: smart-open 7.1.0\r\n",
      "    Uninstalling smart-open-7.1.0:\r\n",
      "      Successfully uninstalled smart-open-7.1.0\r\n",
      "  Attempting uninstall: scipy\r\n",
      "    Found existing installation: scipy 1.15.2\r\n",
      "    Uninstalling scipy-1.15.2:\r\n",
      "      Successfully uninstalled scipy-1.15.2\r\n",
      "  Attempting uninstall: python-dateutil\r\n",
      "    Found existing installation: python-dateutil 2.9.0.post0\r\n",
      "    Uninstalling python-dateutil-2.9.0.post0:\r\n",
      "      Successfully uninstalled python-dateutil-2.9.0.post0\r\n",
      "  Attempting uninstall: pandas\r\n",
      "    Found existing installation: pandas 2.2.3\r\n",
      "    Uninstalling pandas-2.2.3:\r\n",
      "      Successfully uninstalled pandas-2.2.3\r\n",
      "  Attempting uninstall: gensim\r\n",
      "    Found existing installation: gensim 4.3.3\r\n",
      "    Uninstalling gensim-4.3.3:\r\n",
      "      Successfully uninstalled gensim-4.3.3\r\n",
      "\u001b[31mERROR: pip's dependency resolver does not currently take into account all the packages that are installed. This behaviour is the source of the following dependency conflicts.\r\n",
      "datasets 3.6.0 requires fsspec[http]<=2025.3.0,>=2023.1.0, but you have fsspec 2025.3.2 which is incompatible.\r\n",
      "tsfresh 0.21.0 requires scipy>=1.14.0; python_version >= \"3.10\", but you have scipy 1.13.1 which is incompatible.\r\n",
      "cesium 0.12.4 requires numpy<3.0,>=2.0, but you have numpy 1.26.4 which is incompatible.\r\n",
      "google-colab 1.0.0 requires google-auth==2.38.0, but you have google-auth 2.40.1 which is incompatible.\r\n",
      "google-colab 1.0.0 requires notebook==6.5.7, but you have notebook 6.5.4 which is incompatible.\r\n",
      "google-colab 1.0.0 requires pandas==2.2.2, but you have pandas 2.2.3 which is incompatible.\r\n",
      "dopamine-rl 4.1.2 requires gymnasium>=1.0.0, but you have gymnasium 0.29.0 which is incompatible.\r\n",
      "ibis-framework 9.5.0 requires toolz<1,>=0.11, but you have toolz 1.0.0 which is incompatible.\r\n",
      "bigframes 1.42.0 requires rich<14,>=12.4.4, but you have rich 14.0.0 which is incompatible.\r\n",
      "imbalanced-learn 0.13.0 requires scikit-learn<2,>=1.3.2, but you have scikit-learn 1.2.2 which is incompatible.\r\n",
      "plotnine 0.14.5 requires matplotlib>=3.8.0, but you have matplotlib 3.7.2 which is incompatible.\r\n",
      "opentelemetry-api 1.31.1 requires importlib-metadata<8.7.0,>=6.0, but you have importlib-metadata 8.7.0 which is incompatible.\r\n",
      "pandas-gbq 0.28.0 requires google-api-core<3.0.0dev,>=2.10.2, but you have google-api-core 1.34.1 which is incompatible.\r\n",
      "mlxtend 0.23.4 requires scikit-learn>=1.3.1, but you have scikit-learn 1.2.2 which is incompatible.\u001b[0m\u001b[31m\r\n",
      "\u001b[0mSuccessfully installed gensim-4.3.3 numpy-1.26.4 pandas-2.2.3 python-dateutil-2.9.0.post0 pytz-2025.2 scipy-1.13.1 six-1.17.0 smart-open-7.1.0 tzdata-2025.2 wrapt-1.17.2\r\n"
     ]
    }
   ],
   "source": [
    "!pip install --upgrade --force-reinstall numpy gensim pandas"
   ]
  },
  {
   "cell_type": "code",
   "execution_count": 2,
   "id": "51e33c8b",
   "metadata": {
    "execution": {
     "iopub.execute_input": "2025-06-04T11:07:30.153965Z",
     "iopub.status.busy": "2025-06-04T11:07:30.153630Z",
     "iopub.status.idle": "2025-06-04T11:09:02.122441Z",
     "shell.execute_reply": "2025-06-04T11:09:02.121577Z"
    },
    "id": "Iqh_dWWFw7_i",
    "papermill": {
     "duration": 91.981889,
     "end_time": "2025-06-04T11:09:02.124223",
     "exception": false,
     "start_time": "2025-06-04T11:07:30.142334",
     "status": "completed"
    },
    "tags": []
   },
   "outputs": [
    {
     "name": "stderr",
     "output_type": "stream",
     "text": [
      "2025-06-04 11:07:34.430466: E external/local_xla/xla/stream_executor/cuda/cuda_fft.cc:477] Unable to register cuFFT factory: Attempting to register factory for plugin cuFFT when one has already been registered\n",
      "WARNING: All log messages before absl::InitializeLog() is called are written to STDERR\n",
      "E0000 00:00:1749035254.670163      13 cuda_dnn.cc:8310] Unable to register cuDNN factory: Attempting to register factory for plugin cuDNN when one has already been registered\n",
      "E0000 00:00:1749035254.744837      13 cuda_blas.cc:1418] Unable to register cuBLAS factory: Attempting to register factory for plugin cuBLAS when one has already been registered\n"
     ]
    }
   ],
   "source": [
    "import re\n",
    "import pandas as pd\n",
    "import numpy as np\n",
    "import matplotlib.pyplot as plt\n",
    "import seaborn as sns\n",
    "import string\n",
    "import nltk\n",
    "from nltk.corpus import stopwords\n",
    "import tensorflow as tf\n",
    "from tensorflow import keras\n",
    "from nltk.stem import PorterStemmer\n",
    "from nltk.stem import WordNetLemmatizer\n",
    "from wordcloud import WordCloud\n",
    "from nltk.stem import WordNetLemmatizer\n",
    "from sklearn.model_selection import train_test_split\n",
    "from sklearn.feature_extraction.text import CountVectorizer\n",
    "from sklearn.feature_extraction.text import TfidfVectorizer\n",
    "from gensim.models import Word2Vec\n",
    "from sklearn.metrics import accuracy_score,classification_report,confusion_matrix,roc_auc_score,f1_score\n",
    "from sklearn.linear_model import LogisticRegression\n",
    "from sklearn.naive_bayes import BernoulliNB\n",
    "from sklearn.svm import LinearSVC\n",
    "from sklearn.ensemble import RandomForestClassifier\n",
    "\n"
   ]
  },
  {
   "cell_type": "code",
   "execution_count": 3,
   "id": "7d9bee3b",
   "metadata": {
    "execution": {
     "iopub.execute_input": "2025-06-04T11:09:02.146706Z",
     "iopub.status.busy": "2025-06-04T11:09:02.145833Z",
     "iopub.status.idle": "2025-06-04T11:09:03.621465Z",
     "shell.execute_reply": "2025-06-04T11:09:03.620301Z"
    },
    "id": "77m6KUJdzRqg",
    "papermill": {
     "duration": 1.488506,
     "end_time": "2025-06-04T11:09:03.623251",
     "exception": false,
     "start_time": "2025-06-04T11:09:02.134745",
     "status": "completed"
    },
    "tags": []
   },
   "outputs": [],
   "source": [
    "data = pd.read_csv(\"/kaggle/input/moviedata/movie.csv\")"
   ]
  },
  {
   "cell_type": "markdown",
   "id": "142a9ba9",
   "metadata": {
    "id": "0jmaL8n6zv4L",
    "papermill": {
     "duration": 0.010326,
     "end_time": "2025-06-04T11:09:03.644694",
     "exception": false,
     "start_time": "2025-06-04T11:09:03.634368",
     "status": "completed"
    },
    "tags": []
   },
   "source": [
    "# **EDA**"
   ]
  },
  {
   "cell_type": "code",
   "execution_count": 4,
   "id": "06430f32",
   "metadata": {
    "execution": {
     "iopub.execute_input": "2025-06-04T11:09:03.666659Z",
     "iopub.status.busy": "2025-06-04T11:09:03.666256Z",
     "iopub.status.idle": "2025-06-04T11:09:03.679656Z",
     "shell.execute_reply": "2025-06-04T11:09:03.678455Z"
    },
    "executionInfo": {
     "elapsed": 750,
     "status": "ok",
     "timestamp": 1748860107137,
     "user": {
      "displayName": "Nishtha Gupta",
      "userId": "10443862536462505588"
     },
     "user_tz": -330
    },
    "id": "LzKidnQ7z9oW",
    "outputId": "c41887fa-b93f-4418-a144-389ff22be8cf",
    "papermill": {
     "duration": 0.026897,
     "end_time": "2025-06-04T11:09:03.681652",
     "exception": false,
     "start_time": "2025-06-04T11:09:03.654755",
     "status": "completed"
    },
    "tags": []
   },
   "outputs": [
    {
     "data": {
      "text/html": [
       "<div>\n",
       "<style scoped>\n",
       "    .dataframe tbody tr th:only-of-type {\n",
       "        vertical-align: middle;\n",
       "    }\n",
       "\n",
       "    .dataframe tbody tr th {\n",
       "        vertical-align: top;\n",
       "    }\n",
       "\n",
       "    .dataframe thead th {\n",
       "        text-align: right;\n",
       "    }\n",
       "</style>\n",
       "<table border=\"1\" class=\"dataframe\">\n",
       "  <thead>\n",
       "    <tr style=\"text-align: right;\">\n",
       "      <th></th>\n",
       "      <th>text</th>\n",
       "      <th>label</th>\n",
       "    </tr>\n",
       "  </thead>\n",
       "  <tbody>\n",
       "    <tr>\n",
       "      <th>0</th>\n",
       "      <td>I grew up (b. 1965) watching and loving the Th...</td>\n",
       "      <td>0</td>\n",
       "    </tr>\n",
       "    <tr>\n",
       "      <th>1</th>\n",
       "      <td>When I put this movie in my DVD player, and sa...</td>\n",
       "      <td>0</td>\n",
       "    </tr>\n",
       "    <tr>\n",
       "      <th>2</th>\n",
       "      <td>Why do people who do not know what a particula...</td>\n",
       "      <td>0</td>\n",
       "    </tr>\n",
       "    <tr>\n",
       "      <th>3</th>\n",
       "      <td>Even though I have great interest in Biblical ...</td>\n",
       "      <td>0</td>\n",
       "    </tr>\n",
       "    <tr>\n",
       "      <th>4</th>\n",
       "      <td>Im a die hard Dads Army fan and nothing will e...</td>\n",
       "      <td>1</td>\n",
       "    </tr>\n",
       "  </tbody>\n",
       "</table>\n",
       "</div>"
      ],
      "text/plain": [
       "                                                text  label\n",
       "0  I grew up (b. 1965) watching and loving the Th...      0\n",
       "1  When I put this movie in my DVD player, and sa...      0\n",
       "2  Why do people who do not know what a particula...      0\n",
       "3  Even though I have great interest in Biblical ...      0\n",
       "4  Im a die hard Dads Army fan and nothing will e...      1"
      ]
     },
     "execution_count": 4,
     "metadata": {},
     "output_type": "execute_result"
    }
   ],
   "source": [
    "data.head()  #to display the dataset"
   ]
  },
  {
   "cell_type": "code",
   "execution_count": 5,
   "id": "a629bb39",
   "metadata": {
    "execution": {
     "iopub.execute_input": "2025-06-04T11:09:03.706015Z",
     "iopub.status.busy": "2025-06-04T11:09:03.705045Z",
     "iopub.status.idle": "2025-06-04T11:09:03.713674Z",
     "shell.execute_reply": "2025-06-04T11:09:03.712833Z"
    },
    "executionInfo": {
     "elapsed": 58,
     "status": "ok",
     "timestamp": 1748860107141,
     "user": {
      "displayName": "Nishtha Gupta",
      "userId": "10443862536462505588"
     },
     "user_tz": -330
    },
    "id": "Q68Vr13pAUHr",
    "outputId": "5608f78e-1a7e-4bd9-b50e-253765885476",
    "papermill": {
     "duration": 0.022353,
     "end_time": "2025-06-04T11:09:03.715472",
     "exception": false,
     "start_time": "2025-06-04T11:09:03.693119",
     "status": "completed"
    },
    "tags": []
   },
   "outputs": [
    {
     "data": {
      "text/plain": [
       "label\n",
       "0    20019\n",
       "1    19981\n",
       "Name: count, dtype: int64"
      ]
     },
     "execution_count": 5,
     "metadata": {},
     "output_type": "execute_result"
    }
   ],
   "source": [
    "data['label'].value_counts()  #class distribution"
   ]
  },
  {
   "cell_type": "code",
   "execution_count": 6,
   "id": "04978895",
   "metadata": {
    "execution": {
     "iopub.execute_input": "2025-06-04T11:09:03.738763Z",
     "iopub.status.busy": "2025-06-04T11:09:03.738438Z",
     "iopub.status.idle": "2025-06-04T11:09:04.182673Z",
     "shell.execute_reply": "2025-06-04T11:09:04.181673Z"
    },
    "executionInfo": {
     "elapsed": 587,
     "status": "ok",
     "timestamp": 1748860107705,
     "user": {
      "displayName": "Nishtha Gupta",
      "userId": "10443862536462505588"
     },
     "user_tz": -330
    },
    "id": "n6x8xbX2A1Bu",
    "outputId": "3a7aea5a-eeb1-4813-a7b9-39d7ad09abd0",
    "papermill": {
     "duration": 0.458762,
     "end_time": "2025-06-04T11:09:04.184636",
     "exception": false,
     "start_time": "2025-06-04T11:09:03.725874",
     "status": "completed"
    },
    "tags": []
   },
   "outputs": [
    {
     "data": {
      "text/plain": [
       "0"
      ]
     },
     "execution_count": 6,
     "metadata": {},
     "output_type": "execute_result"
    }
   ],
   "source": [
    "data.duplicated().value_counts()  #Checking for duplicate entries\n",
    "#277 duplicate entries\n",
    "data.drop_duplicates(inplace=True)  #Dropping duplicates\n",
    "\n",
    "data.duplicated().sum() #checking\n"
   ]
  },
  {
   "cell_type": "code",
   "execution_count": 7,
   "id": "54cc0f88",
   "metadata": {
    "execution": {
     "iopub.execute_input": "2025-06-04T11:09:04.206815Z",
     "iopub.status.busy": "2025-06-04T11:09:04.206530Z",
     "iopub.status.idle": "2025-06-04T11:09:04.223779Z",
     "shell.execute_reply": "2025-06-04T11:09:04.222701Z"
    },
    "executionInfo": {
     "elapsed": 45,
     "status": "ok",
     "timestamp": 1748860107753,
     "user": {
      "displayName": "Nishtha Gupta",
      "userId": "10443862536462505588"
     },
     "user_tz": -330
    },
    "id": "TzU2BXGTBRpC",
    "outputId": "ee489a3e-f3a9-46f8-de8c-f40e1d308e0a",
    "papermill": {
     "duration": 0.030323,
     "end_time": "2025-06-04T11:09:04.225523",
     "exception": false,
     "start_time": "2025-06-04T11:09:04.195200",
     "status": "completed"
    },
    "tags": []
   },
   "outputs": [
    {
     "data": {
      "text/plain": [
       "text  label\n",
       "True  True     39723\n",
       "Name: count, dtype: int64"
      ]
     },
     "execution_count": 7,
     "metadata": {},
     "output_type": "execute_result"
    }
   ],
   "source": [
    "data.notna().value_counts()  #Checking for missing entries"
   ]
  },
  {
   "cell_type": "code",
   "execution_count": 8,
   "id": "89eb813b",
   "metadata": {
    "execution": {
     "iopub.execute_input": "2025-06-04T11:09:04.249086Z",
     "iopub.status.busy": "2025-06-04T11:09:04.248770Z",
     "iopub.status.idle": "2025-06-04T11:09:04.255543Z",
     "shell.execute_reply": "2025-06-04T11:09:04.254394Z"
    },
    "executionInfo": {
     "elapsed": 86,
     "status": "ok",
     "timestamp": 1748860107849,
     "user": {
      "displayName": "Nishtha Gupta",
      "userId": "10443862536462505588"
     },
     "user_tz": -330
    },
    "id": "nZ5jjfWVDIcP",
    "outputId": "847e302a-bc08-45c8-ec0b-1d5da5cabfb1",
    "papermill": {
     "duration": 0.020327,
     "end_time": "2025-06-04T11:09:04.256952",
     "exception": false,
     "start_time": "2025-06-04T11:09:04.236625",
     "status": "completed"
    },
    "tags": []
   },
   "outputs": [
    {
     "data": {
      "text/plain": [
       "array([0, 1])"
      ]
     },
     "execution_count": 8,
     "metadata": {},
     "output_type": "execute_result"
    }
   ],
   "source": [
    "data['label'].unique()  #Checking inconsistency"
   ]
  },
  {
   "cell_type": "code",
   "execution_count": 9,
   "id": "914cc08d",
   "metadata": {
    "execution": {
     "iopub.execute_input": "2025-06-04T11:09:04.280107Z",
     "iopub.status.busy": "2025-06-04T11:09:04.279801Z",
     "iopub.status.idle": "2025-06-04T11:09:04.290464Z",
     "shell.execute_reply": "2025-06-04T11:09:04.289460Z"
    },
    "executionInfo": {
     "elapsed": 43,
     "status": "ok",
     "timestamp": 1748860107903,
     "user": {
      "displayName": "Nishtha Gupta",
      "userId": "10443862536462505588"
     },
     "user_tz": -330
    },
    "id": "8kI_lMdFD0_y",
    "outputId": "45aa4069-962b-42e6-ab9f-1b61ba5fa500",
    "papermill": {
     "duration": 0.024532,
     "end_time": "2025-06-04T11:09:04.292044",
     "exception": false,
     "start_time": "2025-06-04T11:09:04.267512",
     "status": "completed"
    },
    "tags": []
   },
   "outputs": [
    {
     "name": "stdout",
     "output_type": "stream",
     "text": [
      "No. of positive reviews = 19908\n",
      "No. of negative reviews = 19815\n"
     ]
    }
   ],
   "source": [
    "#Distribution of positive and negative reviews\n",
    "positive_rev = data[data['label']==1]\n",
    "negative_rev = data[data['label']==0]\n",
    "#No. of reviews\n",
    "print(\"No. of positive reviews =\" ,len(positive_rev))\n",
    "print(\"No. of negative reviews =\",len(negative_rev))\n",
    "\n",
    "#Data is balanced"
   ]
  },
  {
   "cell_type": "code",
   "execution_count": 10,
   "id": "6ea8366e",
   "metadata": {
    "execution": {
     "iopub.execute_input": "2025-06-04T11:09:04.314325Z",
     "iopub.status.busy": "2025-06-04T11:09:04.313894Z",
     "iopub.status.idle": "2025-06-04T11:09:04.342826Z",
     "shell.execute_reply": "2025-06-04T11:09:04.341855Z"
    },
    "executionInfo": {
     "elapsed": 1022,
     "status": "ok",
     "timestamp": 1748860108935,
     "user": {
      "displayName": "Nishtha Gupta",
      "userId": "10443862536462505588"
     },
     "user_tz": -330
    },
    "id": "emd9dbZcfGXa",
    "outputId": "66620f6e-3b6e-4487-b709-a6a80c2a19ce",
    "papermill": {
     "duration": 0.041909,
     "end_time": "2025-06-04T11:09:04.344468",
     "exception": false,
     "start_time": "2025-06-04T11:09:04.302559",
     "status": "completed"
    },
    "tags": []
   },
   "outputs": [
    {
     "data": {
      "text/html": [
       "<div>\n",
       "<style scoped>\n",
       "    .dataframe tbody tr th:only-of-type {\n",
       "        vertical-align: middle;\n",
       "    }\n",
       "\n",
       "    .dataframe tbody tr th {\n",
       "        vertical-align: top;\n",
       "    }\n",
       "\n",
       "    .dataframe thead th {\n",
       "        text-align: right;\n",
       "    }\n",
       "</style>\n",
       "<table border=\"1\" class=\"dataframe\">\n",
       "  <thead>\n",
       "    <tr style=\"text-align: right;\">\n",
       "      <th></th>\n",
       "      <th>text</th>\n",
       "      <th>label</th>\n",
       "      <th>length</th>\n",
       "    </tr>\n",
       "  </thead>\n",
       "  <tbody>\n",
       "    <tr>\n",
       "      <th>0</th>\n",
       "      <td>I grew up (b. 1965) watching and loving the Th...</td>\n",
       "      <td>0</td>\n",
       "      <td>874</td>\n",
       "    </tr>\n",
       "    <tr>\n",
       "      <th>1</th>\n",
       "      <td>When I put this movie in my DVD player, and sa...</td>\n",
       "      <td>0</td>\n",
       "      <td>1811</td>\n",
       "    </tr>\n",
       "    <tr>\n",
       "      <th>2</th>\n",
       "      <td>Why do people who do not know what a particula...</td>\n",
       "      <td>0</td>\n",
       "      <td>983</td>\n",
       "    </tr>\n",
       "    <tr>\n",
       "      <th>3</th>\n",
       "      <td>Even though I have great interest in Biblical ...</td>\n",
       "      <td>0</td>\n",
       "      <td>351</td>\n",
       "    </tr>\n",
       "    <tr>\n",
       "      <th>4</th>\n",
       "      <td>Im a die hard Dads Army fan and nothing will e...</td>\n",
       "      <td>1</td>\n",
       "      <td>983</td>\n",
       "    </tr>\n",
       "  </tbody>\n",
       "</table>\n",
       "</div>"
      ],
      "text/plain": [
       "                                                text  label  length\n",
       "0  I grew up (b. 1965) watching and loving the Th...      0     874\n",
       "1  When I put this movie in my DVD player, and sa...      0    1811\n",
       "2  Why do people who do not know what a particula...      0     983\n",
       "3  Even though I have great interest in Biblical ...      0     351\n",
       "4  Im a die hard Dads Army fan and nothing will e...      1     983"
      ]
     },
     "execution_count": 10,
     "metadata": {},
     "output_type": "execute_result"
    }
   ],
   "source": [
    "#Data visualization\n",
    "data['length'] = data['text'].apply(len)\n",
    "data.head()"
   ]
  },
  {
   "cell_type": "code",
   "execution_count": 11,
   "id": "d8176588",
   "metadata": {
    "execution": {
     "iopub.execute_input": "2025-06-04T11:09:04.367001Z",
     "iopub.status.busy": "2025-06-04T11:09:04.366712Z",
     "iopub.status.idle": "2025-06-04T11:09:04.948130Z",
     "shell.execute_reply": "2025-06-04T11:09:04.947193Z"
    },
    "executionInfo": {
     "elapsed": 105,
     "status": "ok",
     "timestamp": 1748860109052,
     "user": {
      "displayName": "Nishtha Gupta",
      "userId": "10443862536462505588"
     },
     "user_tz": -330
    },
    "id": "vKv7ObJdglbX",
    "outputId": "b99daf26-fd92-4118-e316-702903cb9cce",
    "papermill": {
     "duration": 0.594609,
     "end_time": "2025-06-04T11:09:04.949710",
     "exception": false,
     "start_time": "2025-06-04T11:09:04.355101",
     "status": "completed"
    },
    "tags": []
   },
   "outputs": [
    {
     "data": {
      "image/png": "[encoded data removed]",
      "text/plain": [
       "<Figure size 1000x600 with 1 Axes>"
      ]
     },
     "metadata": {},
     "output_type": "display_data"
    },
    {
     "data": {
      "text/plain": [
       "<Axes: xlabel='label', ylabel='count'>"
      ]
     },
     "execution_count": 11,
     "metadata": {},
     "output_type": "execute_result"
    },
    {
     "data": {
      "image/png": "[encoded data removed]",
      "text/plain": [
       "<Figure size 640x480 with 1 Axes>"
      ]
     },
     "metadata": {},
     "output_type": "display_data"
    }
   ],
   "source": [
    "#sentiment vs Length\n",
    "plt.figure(figsize=(10,6))\n",
    "data[data['label']==1]['length'].plot(kind='hist',color='blue',label='positive review',alpha=0.6,bins=35)\n",
    "data[data['label']==0]['length'].plot(kind='hist',color='red',label='negative review',alpha=0.6,bins=35)\n",
    "\n",
    "plt.legend()\n",
    "\n",
    "plt.show()\n",
    "\n",
    "sns.countplot(x='label',data=data)"
   ]
  },
  {
   "cell_type": "markdown",
   "id": "630e9978",
   "metadata": {
    "id": "1vmCVkf88Hbe",
    "papermill": {
     "duration": 0.011128,
     "end_time": "2025-06-04T11:09:04.973020",
     "exception": false,
     "start_time": "2025-06-04T11:09:04.961892",
     "status": "completed"
    },
    "tags": []
   },
   "source": [
    "# **Data Pre-Processing**"
   ]
  },
  {
   "cell_type": "code",
   "execution_count": 12,
   "id": "167757e5",
   "metadata": {
    "execution": {
     "iopub.execute_input": "2025-06-04T11:09:04.997673Z",
     "iopub.status.busy": "2025-06-04T11:09:04.997362Z",
     "iopub.status.idle": "2025-06-04T11:09:25.551026Z",
     "shell.execute_reply": "2025-06-04T11:09:25.550018Z"
    },
    "executionInfo": {
     "elapsed": 19951,
     "status": "ok",
     "timestamp": 1748860131789,
     "user": {
      "displayName": "Nishtha Gupta",
      "userId": "10443862536462505588"
     },
     "user_tz": -330
    },
    "id": "hwxrx9HT8NRR",
    "outputId": "db9a1324-cd97-4fd2-bfd0-e9e56609c564",
    "papermill": {
     "duration": 20.56841,
     "end_time": "2025-06-04T11:09:25.552712",
     "exception": false,
     "start_time": "2025-06-04T11:09:04.984302",
     "status": "completed"
    },
    "tags": []
   },
   "outputs": [
    {
     "name": "stderr",
     "output_type": "stream",
     "text": [
      "[nltk_data] Downloading package stopwords to /usr/share/nltk_data...\n",
      "[nltk_data]   Package stopwords is already up-to-date!\n"
     ]
    }
   ],
   "source": [
    "nltk.download('stopwords')\n",
    "#Converting in lowercase\n",
    "data['text'] = data['text'].apply(lambda x:x.lower())\n",
    "#Removing Special Characters and Punctuations\n",
    "def remove_sp_char(text):\n",
    "  text = re.sub('[^a-zA-Z0-9\\s]','',text)\n",
    "  return text\n",
    "\n",
    "data['text'] = data['text'].apply(remove_sp_char)\n",
    "\n",
    "#Removing stopwords\n",
    "stop_words = stopwords.words('english')\n",
    "\n",
    "def remove_stopwords(text):\n",
    "   words = text.split()\n",
    "   filtered_words = [word for word in words if word not in stop_words]\n",
    "   return ' '.join(filtered_words)\n",
    "\n",
    "data['text'] = data['text'].apply(remove_stopwords)"
   ]
  },
  {
   "cell_type": "code",
   "execution_count": 13,
   "id": "cad7a4c7",
   "metadata": {
    "execution": {
     "iopub.execute_input": "2025-06-04T11:09:25.577923Z",
     "iopub.status.busy": "2025-06-04T11:09:25.577605Z",
     "iopub.status.idle": "2025-06-04T11:09:25.584532Z",
     "shell.execute_reply": "2025-06-04T11:09:25.583595Z"
    },
    "executionInfo": {
     "elapsed": 19,
     "status": "ok",
     "timestamp": 1748860131821,
     "user": {
      "displayName": "Nishtha Gupta",
      "userId": "10443862536462505588"
     },
     "user_tz": -330
    },
    "id": "KjYthx9QEeT0",
    "outputId": "895185e6-fd24-4091-e975-91972a6400da",
    "papermill": {
     "duration": 0.021499,
     "end_time": "2025-06-04T11:09:25.585978",
     "exception": false,
     "start_time": "2025-06-04T11:09:25.564479",
     "status": "completed"
    },
    "tags": []
   },
   "outputs": [
    {
     "data": {
      "text/plain": [
       "0    grew b 1965 watching loving thunderbirds mates...\n",
       "1    put movie dvd player sat coke chips expectatio...\n",
       "2    people know particular time past like feel nee...\n",
       "3    even though great interest biblical movies bor...\n",
       "4    im die hard dads army fan nothing ever change ...\n",
       "Name: text, dtype: object"
      ]
     },
     "execution_count": 13,
     "metadata": {},
     "output_type": "execute_result"
    }
   ],
   "source": [
    "data['text'].head()"
   ]
  },
  {
   "cell_type": "code",
   "execution_count": 14,
   "id": "9ca1d9dd",
   "metadata": {
    "execution": {
     "iopub.execute_input": "2025-06-04T11:09:25.681078Z",
     "iopub.status.busy": "2025-06-04T11:09:25.680756Z",
     "iopub.status.idle": "2025-06-04T11:09:33.248041Z",
     "shell.execute_reply": "2025-06-04T11:09:33.246637Z"
    },
    "executionInfo": {
     "elapsed": 8818,
     "status": "ok",
     "timestamp": 1748860140650,
     "user": {
      "displayName": "Nishtha Gupta",
      "userId": "10443862536462505588"
     },
     "user_tz": -330
    },
    "id": "l_9ey-XQRIlP",
    "outputId": "7824fdc7-b462-4e66-8384-60f36234cd8a",
    "papermill": {
     "duration": 7.651975,
     "end_time": "2025-06-04T11:09:33.249694",
     "exception": false,
     "start_time": "2025-06-04T11:09:25.597719",
     "status": "completed"
    },
    "tags": []
   },
   "outputs": [
    {
     "name": "stdout",
     "output_type": "stream",
     "text": [
      "0    grew,b,1965,watching,loving,thunderbirds,mates...\n",
      "1    put,movie,dvd,player,sat,coke,chips,expectatio...\n",
      "2    people,know,particular,time,past,like,feel,nee...\n",
      "3    even,though,great,interest,biblical,movies,bor...\n",
      "4    im,die,hard,dads,army,fan,nothing,ever,change,...\n",
      "Name: text_tokens_words, dtype: object\n"
     ]
    }
   ],
   "source": [
    "#Tokenisation\n",
    "from tensorflow.keras.preprocessing.text import Tokenizer\n",
    "tokenizer = Tokenizer()\n",
    "tokenizer.fit_on_texts(data['text'])\n",
    "data['text_token'] = tokenizer.texts_to_sequences(data['text'])\n",
    "index_word = tokenizer.index_word\n",
    "def tokens_to_words(tokens):\n",
    "    return ','.join([index_word.get(token, '') for token in tokens])\n",
    "\n",
    "data['text_tokens_words'] = data['text_token'].apply(tokens_to_words)\n",
    "\n",
    "print(data['text_tokens_words'].head())"
   ]
  },
  {
   "cell_type": "code",
   "execution_count": 15,
   "id": "192b30b7",
   "metadata": {
    "execution": {
     "iopub.execute_input": "2025-06-04T11:09:33.276446Z",
     "iopub.status.busy": "2025-06-04T11:09:33.276022Z",
     "iopub.status.idle": "2025-06-04T11:10:52.831515Z",
     "shell.execute_reply": "2025-06-04T11:10:52.830510Z"
    },
    "executionInfo": {
     "elapsed": 100037,
     "status": "ok",
     "timestamp": 1748860240707,
     "user": {
      "displayName": "Nishtha Gupta",
      "userId": "10443862536462505588"
     },
     "user_tz": -330
    },
    "id": "AE3qtXk0VG4-",
    "outputId": "581a6b4c-9484-4055-f05a-40d2f7647e46",
    "papermill": {
     "duration": 79.581978,
     "end_time": "2025-06-04T11:10:52.844609",
     "exception": false,
     "start_time": "2025-06-04T11:09:33.262631",
     "status": "completed"
    },
    "tags": []
   },
   "outputs": [
    {
     "data": {
      "text/plain": [
       "0    grew,b,1965,watch,love,thunderbird,mate,school...\n",
       "1    put,movi,dvd,player,sat,coke,chip,expect,hope,...\n",
       "2    peopl,know,particular,time,past,like,feel,need...\n",
       "3    even,though,great,interest,biblic,movi,bore,de...\n",
       "4    im,die,hard,dad,armi,fan,noth,ever,chang,got,t...\n",
       "Name: Stemmed_word, dtype: object"
      ]
     },
     "execution_count": 15,
     "metadata": {},
     "output_type": "execute_result"
    }
   ],
   "source": [
    "#Stemming\n",
    "st = nltk.PorterStemmer ()\n",
    "\n",
    "def stemming(text):\n",
    "  words = text.split(',')\n",
    "  stemmed_words = [st.stem(word) for word in words]\n",
    "  return ','.join(stemmed_words)\n",
    "\n",
    "data['Stemmed_word'] = data['text_tokens_words'].apply(stemming)\n",
    "\n",
    "data['Stemmed_word'].head()"
   ]
  },
  {
   "cell_type": "code",
   "execution_count": 16,
   "id": "1157557d",
   "metadata": {
    "execution": {
     "iopub.execute_input": "2025-06-04T11:10:52.869709Z",
     "iopub.status.busy": "2025-06-04T11:10:52.869430Z",
     "iopub.status.idle": "2025-06-04T11:11:16.324178Z",
     "shell.execute_reply": "2025-06-04T11:11:16.323211Z"
    },
    "executionInfo": {
     "elapsed": 28761,
     "status": "ok",
     "timestamp": 1748860269451,
     "user": {
      "displayName": "Nishtha Gupta",
      "userId": "10443862536462505588"
     },
     "user_tz": -330
    },
    "id": "aqW2tjwhKO0d",
    "outputId": "f016dbb9-6297-4e4c-c52f-30a1fe465aa3",
    "papermill": {
     "duration": 23.469322,
     "end_time": "2025-06-04T11:11:16.325839",
     "exception": false,
     "start_time": "2025-06-04T11:10:52.856517",
     "status": "completed"
    },
    "tags": []
   },
   "outputs": [
    {
     "name": "stderr",
     "output_type": "stream",
     "text": [
      "[nltk_data] Downloading package wordnet to /usr/share/nltk_data...\n",
      "[nltk_data]   Package wordnet is already up-to-date!\n"
     ]
    },
    {
     "data": {
      "text/plain": [
       "0    grew,b,1965,watch,love,thunderbird,mate,school...\n",
       "1    put,movi,dvd,player,sat,coke,chip,expect,hope,...\n",
       "2    peopl,know,particular,time,past,like,feel,need...\n",
       "3    even,though,great,interest,biblic,movi,bore,de...\n",
       "4    im,die,hard,dad,armi,fan,noth,ever,chang,got,t...\n",
       "Name: Lemmatized_word, dtype: object"
      ]
     },
     "execution_count": 16,
     "metadata": {},
     "output_type": "execute_result"
    }
   ],
   "source": [
    "#Lemmatization\n",
    "nltk.download('wordnet')\n",
    "lm = nltk.WordNetLemmatizer()\n",
    "def lemmatization(text):\n",
    "  words = text.split(',')\n",
    "  lemmatized_words = [lm.lemmatize(word) for word in words]\n",
    "  return ','.join(lemmatized_words)\n",
    "data['Lemmatized_word'] = data['Stemmed_word'].apply(lemmatization)\n",
    "data['Lemmatized_word'].head()\n"
   ]
  },
  {
   "cell_type": "code",
   "execution_count": 17,
   "id": "8b99fe9c",
   "metadata": {
    "execution": {
     "iopub.execute_input": "2025-06-04T11:11:16.351386Z",
     "iopub.status.busy": "2025-06-04T11:11:16.351018Z",
     "iopub.status.idle": "2025-06-04T11:11:16.364333Z",
     "shell.execute_reply": "2025-06-04T11:11:16.362982Z"
    },
    "id": "89bP5jPxLosr",
    "papermill": {
     "duration": 0.028044,
     "end_time": "2025-06-04T11:11:16.366051",
     "exception": false,
     "start_time": "2025-06-04T11:11:16.338007",
     "status": "completed"
    },
    "tags": []
   },
   "outputs": [],
   "source": [
    "#Spliting in train/test\n",
    "x = data['Lemmatized_word']\n",
    "y = data['label']\n",
    "\n",
    "x_train, x_test, y_train, y_test = train_test_split(x, y, test_size = 0.2, random_state=42)"
   ]
  },
  {
   "cell_type": "markdown",
   "id": "ce9fe65d",
   "metadata": {
    "id": "ClxICMf4X7LX",
    "papermill": {
     "duration": 0.011666,
     "end_time": "2025-06-04T11:11:16.391426",
     "exception": false,
     "start_time": "2025-06-04T11:11:16.379760",
     "status": "completed"
    },
    "tags": []
   },
   "source": [
    "# **Feature Extraction**"
   ]
  },
  {
   "cell_type": "code",
   "execution_count": 18,
   "id": "9b9ca464",
   "metadata": {
    "execution": {
     "iopub.execute_input": "2025-06-04T11:11:16.418755Z",
     "iopub.status.busy": "2025-06-04T11:11:16.417561Z",
     "iopub.status.idle": "2025-06-04T11:11:16.423496Z",
     "shell.execute_reply": "2025-06-04T11:11:16.422554Z"
    },
    "id": "F4qCqdefYBrb",
    "papermill": {
     "duration": 0.021162,
     "end_time": "2025-06-04T11:11:16.425105",
     "exception": false,
     "start_time": "2025-06-04T11:11:16.403943",
     "status": "completed"
    },
    "tags": []
   },
   "outputs": [],
   "source": [
    "#One hot encoding\n",
    "def one_hot(x_train,x_test):\n",
    "  tokenizer = Tokenizer()\n",
    "  tokenizer.fit_on_texts(x_train)\n",
    "\n",
    "  x_train_onehot = tokenizer.texts_to_matrix(x_train, mode='binary')\n",
    "  x_test_onehot = tokenizer.texts_to_matrix(x_test, mode='binary')\n",
    "  return x_train_onehot, x_test_onehot"
   ]
  },
  {
   "cell_type": "code",
   "execution_count": 19,
   "id": "1e38989a",
   "metadata": {
    "execution": {
     "iopub.execute_input": "2025-06-04T11:11:16.450647Z",
     "iopub.status.busy": "2025-06-04T11:11:16.450284Z",
     "iopub.status.idle": "2025-06-04T11:11:16.455230Z",
     "shell.execute_reply": "2025-06-04T11:11:16.454260Z"
    },
    "id": "QsWyOd54uMG3",
    "papermill": {
     "duration": 0.019535,
     "end_time": "2025-06-04T11:11:16.456854",
     "exception": false,
     "start_time": "2025-06-04T11:11:16.437319",
     "status": "completed"
    },
    "tags": []
   },
   "outputs": [],
   "source": [
    "#Bags of Words\n",
    "def BoW(x_train, x_test):\n",
    "  vectorizer = CountVectorizer()\n",
    "  x_train_bow = vectorizer.fit_transform(x_train)\n",
    "  x_test_bow = vectorizer.transform(x_test)\n",
    "  return x_train_bow, x_test_bow\n"
   ]
  },
  {
   "cell_type": "code",
   "execution_count": 20,
   "id": "d1e526bf",
   "metadata": {
    "execution": {
     "iopub.execute_input": "2025-06-04T11:11:16.482447Z",
     "iopub.status.busy": "2025-06-04T11:11:16.482068Z",
     "iopub.status.idle": "2025-06-04T11:11:16.487443Z",
     "shell.execute_reply": "2025-06-04T11:11:16.486233Z"
    },
    "id": "J9nifNDE3KpM",
    "papermill": {
     "duration": 0.020207,
     "end_time": "2025-06-04T11:11:16.489059",
     "exception": false,
     "start_time": "2025-06-04T11:11:16.468852",
     "status": "completed"
    },
    "tags": []
   },
   "outputs": [],
   "source": [
    "#TF - IDF Vectorizer\n",
    "def TF_IDF(x_train, x_test):\n",
    "  Tf_vectorizer = TfidfVectorizer()\n",
    "  x_train_tfidf = Tf_vectorizer.fit_transform(x_train)\n",
    "  x_test_tfidf = Tf_vectorizer.transform(x_test)\n",
    "  return x_train_tfidf, x_test_tfidf\n"
   ]
  },
  {
   "cell_type": "code",
   "execution_count": 21,
   "id": "a161d224",
   "metadata": {
    "execution": {
     "iopub.execute_input": "2025-06-04T11:11:16.515687Z",
     "iopub.status.busy": "2025-06-04T11:11:16.515403Z",
     "iopub.status.idle": "2025-06-04T11:11:16.521888Z",
     "shell.execute_reply": "2025-06-04T11:11:16.520900Z"
    },
    "id": "VSSWF8aycLpy",
    "papermill": {
     "duration": 0.021113,
     "end_time": "2025-06-04T11:11:16.523310",
     "exception": false,
     "start_time": "2025-06-04T11:11:16.502197",
     "status": "completed"
    },
    "tags": []
   },
   "outputs": [],
   "source": [
    "#Word2Vec\n",
    "def word2vec(x_train, x_test):\n",
    "  w2v_model = Word2Vec(x_train, vector_size=100, window=5, min_count=2, workers=4)\n",
    "\n",
    "  def document_vector(doc, model):\n",
    "      doc = [word for word in doc if word in model.wv]\n",
    "      if len(doc) == 0:\n",
    "          return np.zeros(model.vector_size)\n",
    "      return np.mean(model.wv[doc], axis=0)\n",
    "\n",
    "  x_train_w2v = np.array([document_vector(doc, w2v_model) for doc in x_train])\n",
    "  x_test_w2v  = np.array([document_vector(doc, w2v_model) for doc in x_test])\n",
    "  return x_train_w2v, x_test_w2v\n"
   ]
  },
  {
   "cell_type": "code",
   "execution_count": 22,
   "id": "90f4a06a",
   "metadata": {
    "execution": {
     "iopub.execute_input": "2025-06-04T11:11:16.548834Z",
     "iopub.status.busy": "2025-06-04T11:11:16.548562Z",
     "iopub.status.idle": "2025-06-04T11:11:16.552806Z",
     "shell.execute_reply": "2025-06-04T11:11:16.551978Z"
    },
    "id": "M51C_dWeuNFy",
    "papermill": {
     "duration": 0.018881,
     "end_time": "2025-06-04T11:11:16.554380",
     "exception": false,
     "start_time": "2025-06-04T11:11:16.535499",
     "status": "completed"
    },
    "tags": []
   },
   "outputs": [],
   "source": [
    "# import pickle\n",
    "\n",
    "# from scipy.sparse import save_npz\n",
    "\n",
    "# y_train.to_pickle(\"y_train.pkl\")\n",
    "# y_test.to_pickle(\"y_test.pkl\")\n",
    "\n",
    "# # Save sparse matrices\n",
    "# np.save(\"x_train_onehot.npy\", x_train_onehot)\n",
    "# np.save(\"x_test_onehot.npy\", x_test_onehot)\n",
    "# np.save(\"x_train_bow.npy\", x_train_bow)\n",
    "# np.save(\"x_test_bow.npy\", x_test_bow)\n",
    "# np.save(\"x_train_tfidf.npy\", x_train_tfidf)\n",
    "# np.save(\"x_test_tfidf.npy\", x_test_tfidf)\n",
    "\n",
    "# # Save numpy arrays\n",
    "# np.save(\"x_train_w2v.npy\", x_train_w2v)\n",
    "# np.save(\"x_test_w2v.npy\", x_test_w2v)"
   ]
  },
  {
   "cell_type": "markdown",
   "id": "bcd3026c",
   "metadata": {
    "id": "PI87eNXdiDAQ",
    "papermill": {
     "duration": 0.011483,
     "end_time": "2025-06-04T11:11:16.578091",
     "exception": false,
     "start_time": "2025-06-04T11:11:16.566608",
     "status": "completed"
    },
    "tags": []
   },
   "source": [
    "# **Evaluation Model**"
   ]
  },
  {
   "cell_type": "code",
   "execution_count": 23,
   "id": "9ca0bb3a",
   "metadata": {
    "execution": {
     "iopub.execute_input": "2025-06-04T11:11:16.603725Z",
     "iopub.status.busy": "2025-06-04T11:11:16.603018Z",
     "iopub.status.idle": "2025-06-04T11:11:16.608951Z",
     "shell.execute_reply": "2025-06-04T11:11:16.608076Z"
    },
    "id": "I-P8c0VJkT2e",
    "papermill": {
     "duration": 0.020531,
     "end_time": "2025-06-04T11:11:16.610627",
     "exception": false,
     "start_time": "2025-06-04T11:11:16.590096",
     "status": "completed"
    },
    "tags": []
   },
   "outputs": [],
   "source": [
    "def evaluate_model(model, x_train, x_test, y_train, y_test):\n",
    "    model.fit(x_train, y_train)\n",
    "    y_pred = model.predict(x_test)\n",
    "    print(\"Accuracy:\", accuracy_score(y_test, y_pred))\n",
    "    print(\"ROC AUC Score:\", roc_auc_score(y_test, y_pred))\n",
    "    print(\"F1 Score:\", f1_score(y_test, y_pred))\n",
    "    print(\"Classification Report:\\n\", classification_report(y_test, y_pred))\n",
    "    sns.heatmap(confusion_matrix(y_test,y_pred), annot=True, fmt='d')\n",
    "    plt.title('Confusion Matrix')\n",
    "    plt.show()\n",
    "\n",
    "\n"
   ]
  },
  {
   "cell_type": "code",
   "execution_count": null,
   "id": "1c12f44c",
   "metadata": {
    "id": "9pLI5oGVmh0A",
    "papermill": {
     "duration": 0.01239,
     "end_time": "2025-06-04T11:11:16.635022",
     "exception": false,
     "start_time": "2025-06-04T11:11:16.622632",
     "status": "completed"
    },
    "tags": []
   },
   "outputs": [],
   "source": []
  },
  {
   "cell_type": "markdown",
   "id": "af0a032d",
   "metadata": {
    "id": "uJU-o3yhmium",
    "papermill": {
     "duration": 0.011636,
     "end_time": "2025-06-04T11:11:16.659077",
     "exception": false,
     "start_time": "2025-06-04T11:11:16.647441",
     "status": "completed"
    },
    "tags": []
   },
   "source": [
    "# **Model Selection**"
   ]
  },
  {
   "cell_type": "code",
   "execution_count": 24,
   "id": "367a1e33",
   "metadata": {
    "execution": {
     "iopub.execute_input": "2025-06-04T11:11:16.684560Z",
     "iopub.status.busy": "2025-06-04T11:11:16.684113Z",
     "iopub.status.idle": "2025-06-04T11:11:16.688732Z",
     "shell.execute_reply": "2025-06-04T11:11:16.687913Z"
    },
    "id": "b5V0UkHh5NAd",
    "papermill": {
     "duration": 0.019279,
     "end_time": "2025-06-04T11:11:16.690299",
     "exception": false,
     "start_time": "2025-06-04T11:11:16.671020",
     "status": "completed"
    },
    "tags": []
   },
   "outputs": [],
   "source": [
    "embedding_functions = {\n",
    "    'BoW': BoW,\n",
    "    'TF-IDF': TF_IDF,\n",
    "    'Word2Vec': word2vec\n",
    "}"
   ]
  },
  {
   "cell_type": "code",
   "execution_count": 25,
   "id": "839b69b5",
   "metadata": {
    "execution": {
     "iopub.execute_input": "2025-06-04T11:11:16.715744Z",
     "iopub.status.busy": "2025-06-04T11:11:16.715461Z",
     "iopub.status.idle": "2025-06-04T11:11:16.720384Z",
     "shell.execute_reply": "2025-06-04T11:11:16.719377Z"
    },
    "id": "zjQF8mh942lO",
    "papermill": {
     "duration": 0.019383,
     "end_time": "2025-06-04T11:11:16.721832",
     "exception": false,
     "start_time": "2025-06-04T11:11:16.702449",
     "status": "completed"
    },
    "tags": []
   },
   "outputs": [],
   "source": [
    "models = {\n",
    "    \"Logistic Regression\": LogisticRegression(),\n",
    "    \"Naive Bayes\": BernoulliNB(),\n",
    "    \"SVM\": LinearSVC(),\n",
    "    \"Random Forest\": RandomForestClassifier()\n",
    "}"
   ]
  },
  {
   "cell_type": "code",
   "execution_count": 26,
   "id": "ef759c65",
   "metadata": {
    "execution": {
     "iopub.execute_input": "2025-06-04T11:11:16.747287Z",
     "iopub.status.busy": "2025-06-04T11:11:16.746951Z",
     "iopub.status.idle": "2025-06-04T11:19:45.987101Z",
     "shell.execute_reply": "2025-06-04T11:19:45.986314Z"
    },
    "id": "gQawpQLdHGFC",
    "outputId": "67ee0a86-0649-4403-92ca-8362934ef85d",
    "papermill": {
     "duration": 509.273653,
     "end_time": "2025-06-04T11:19:46.007463",
     "exception": false,
     "start_time": "2025-06-04T11:11:16.733810",
     "status": "completed"
    },
    "tags": []
   },
   "outputs": [
    {
     "name": "stdout",
     "output_type": "stream",
     "text": [
      "\n",
      "===== Logistic Regression with BoW =====\n"
     ]
    },
    {
     "name": "stderr",
     "output_type": "stream",
     "text": [
      "/usr/local/lib/python3.11/dist-packages/sklearn/linear_model/_logistic.py:458: ConvergenceWarning: lbfgs failed to converge (status=1):\n",
      "STOP: TOTAL NO. of ITERATIONS REACHED LIMIT.\n",
      "\n",
      "Increase the number of iterations (max_iter) or scale the data as shown in:\n",
      "    https://scikit-learn.org/stable/modules/preprocessing.html\n",
      "Please also refer to the documentation for alternative solver options:\n",
      "    https://scikit-learn.org/stable/modules/linear_model.html#logistic-regression\n",
      "  n_iter_i = _check_optimize_result(\n"
     ]
    },
    {
     "name": "stdout",
     "output_type": "stream",
     "text": [
      "Accuracy: 0.8765261170547514\n",
      "ROC AUC Score: 0.876569746522493\n",
      "F1 Score: 0.8771754100413172\n",
      "Classification Report:\n",
      "               precision    recall  f1-score   support\n",
      "\n",
      "           0       0.88      0.87      0.88      3991\n",
      "           1       0.87      0.89      0.88      3954\n",
      "\n",
      "    accuracy                           0.88      7945\n",
      "   macro avg       0.88      0.88      0.88      7945\n",
      "weighted avg       0.88      0.88      0.88      7945\n",
      "\n"
     ]
    },
    {
     "data": {
      "image/png": "[encoded data removed]",
      "text/plain": [
       "<Figure size 640x480 with 2 Axes>"
      ]
     },
     "metadata": {},
     "output_type": "display_data"
    },
    {
     "name": "stdout",
     "output_type": "stream",
     "text": [
      "\n",
      "===== Naive Bayes with BoW =====\n",
      "Accuracy: 0.8495909376966646\n",
      "ROC AUC Score: 0.8494909575883117\n",
      "F1 Score: 0.8456670541133927\n",
      "Classification Report:\n",
      "               precision    recall  f1-score   support\n",
      "\n",
      "           0       0.84      0.87      0.85      3991\n",
      "           1       0.86      0.83      0.85      3954\n",
      "\n",
      "    accuracy                           0.85      7945\n",
      "   macro avg       0.85      0.85      0.85      7945\n",
      "weighted avg       0.85      0.85      0.85      7945\n",
      "\n"
     ]
    },
    {
     "data": {
      "image/png": "[encoded data removed]",
      "text/plain": [
       "<Figure size 640x480 with 2 Axes>"
      ]
     },
     "metadata": {},
     "output_type": "display_data"
    },
    {
     "name": "stdout",
     "output_type": "stream",
     "text": [
      "\n",
      "===== SVM with BoW =====\n",
      "Accuracy: 0.8600377595972309\n",
      "ROC AUC Score: 0.8600722389159118\n",
      "F1 Score: 0.8605117912694431\n",
      "Classification Report:\n",
      "               precision    recall  f1-score   support\n",
      "\n",
      "           0       0.87      0.85      0.86      3991\n",
      "           1       0.85      0.87      0.86      3954\n",
      "\n",
      "    accuracy                           0.86      7945\n",
      "   macro avg       0.86      0.86      0.86      7945\n",
      "weighted avg       0.86      0.86      0.86      7945\n",
      "\n"
     ]
    },
    {
     "name": "stderr",
     "output_type": "stream",
     "text": [
      "/usr/local/lib/python3.11/dist-packages/sklearn/svm/_base.py:1244: ConvergenceWarning: Liblinear failed to converge, increase the number of iterations.\n",
      "  warnings.warn(\n"
     ]
    },
    {
     "data": {
      "image/png": "[encoded data removed]",
      "text/plain": [
       "<Figure size 640x480 with 2 Axes>"
      ]
     },
     "metadata": {},
     "output_type": "display_data"
    },
    {
     "name": "stdout",
     "output_type": "stream",
     "text": [
      "\n",
      "===== Random Forest with BoW =====\n",
      "Accuracy: 0.8541220893643802\n",
      "ROC AUC Score: 0.8541394414620554\n",
      "F1 Score: 0.8540853581770113\n",
      "Classification Report:\n",
      "               precision    recall  f1-score   support\n",
      "\n",
      "           0       0.86      0.85      0.85      3991\n",
      "           1       0.85      0.86      0.85      3954\n",
      "\n",
      "    accuracy                           0.85      7945\n",
      "   macro avg       0.85      0.85      0.85      7945\n",
      "weighted avg       0.85      0.85      0.85      7945\n",
      "\n"
     ]
    },
    {
     "data": {
      "image/png": "[encoded data removed]",
      "text/plain": [
       "<Figure size 640x480 with 2 Axes>"
      ]
     },
     "metadata": {},
     "output_type": "display_data"
    },
    {
     "name": "stdout",
     "output_type": "stream",
     "text": [
      "\n",
      "===== Logistic Regression with TF-IDF =====\n",
      "Accuracy: 0.8867212083071114\n",
      "ROC AUC Score: 0.8867855748271243\n",
      "F1 Score: 0.8878085265519821\n",
      "Classification Report:\n",
      "               precision    recall  f1-score   support\n",
      "\n",
      "           0       0.90      0.87      0.89      3991\n",
      "           1       0.88      0.90      0.89      3954\n",
      "\n",
      "    accuracy                           0.89      7945\n",
      "   macro avg       0.89      0.89      0.89      7945\n",
      "weighted avg       0.89      0.89      0.89      7945\n",
      "\n"
     ]
    },
    {
     "data": {
      "image/png": "[encoded data removed]",
      "text/plain": [
       "<Figure size 640x480 with 2 Axes>"
      ]
     },
     "metadata": {},
     "output_type": "display_data"
    },
    {
     "name": "stdout",
     "output_type": "stream",
     "text": [
      "\n",
      "===== Naive Bayes with TF-IDF =====\n",
      "Accuracy: 0.8495909376966646\n",
      "ROC AUC Score: 0.8494909575883117\n",
      "F1 Score: 0.8456670541133927\n",
      "Classification Report:\n",
      "               precision    recall  f1-score   support\n",
      "\n",
      "           0       0.84      0.87      0.85      3991\n",
      "           1       0.86      0.83      0.85      3954\n",
      "\n",
      "    accuracy                           0.85      7945\n",
      "   macro avg       0.85      0.85      0.85      7945\n",
      "weighted avg       0.85      0.85      0.85      7945\n",
      "\n"
     ]
    },
    {
     "data": {
      "image/png": "[encoded data removed]",
      "text/plain": [
       "<Figure size 640x480 with 2 Axes>"
      ]
     },
     "metadata": {},
     "output_type": "display_data"
    },
    {
     "name": "stdout",
     "output_type": "stream",
     "text": [
      "\n",
      "===== SVM with TF-IDF =====\n",
      "Accuracy: 0.8879798615481435\n",
      "ROC AUC Score: 0.8880278426155359\n",
      "F1 Score: 0.8886664998749061\n",
      "Classification Report:\n",
      "               precision    recall  f1-score   support\n",
      "\n",
      "           0       0.90      0.88      0.89      3991\n",
      "           1       0.88      0.90      0.89      3954\n",
      "\n",
      "    accuracy                           0.89      7945\n",
      "   macro avg       0.89      0.89      0.89      7945\n",
      "weighted avg       0.89      0.89      0.89      7945\n",
      "\n"
     ]
    },
    {
     "data": {
      "image/png": "[encoded data removed]",
      "text/plain": [
       "<Figure size 640x480 with 2 Axes>"
      ]
     },
     "metadata": {},
     "output_type": "display_data"
    },
    {
     "name": "stdout",
     "output_type": "stream",
     "text": [
      "\n",
      "===== Random Forest with TF-IDF =====\n",
      "Accuracy: 0.8531151667715544\n",
      "ROC AUC Score: 0.8531090502441825\n",
      "F1 Score: 0.8523345564975326\n",
      "Classification Report:\n",
      "               precision    recall  f1-score   support\n",
      "\n",
      "           0       0.85      0.85      0.85      3991\n",
      "           1       0.85      0.85      0.85      3954\n",
      "\n",
      "    accuracy                           0.85      7945\n",
      "   macro avg       0.85      0.85      0.85      7945\n",
      "weighted avg       0.85      0.85      0.85      7945\n",
      "\n"
     ]
    },
    {
     "data": {
      "image/png": "[encoded data removed]",
      "text/plain": [
       "<Figure size 640x480 with 2 Axes>"
      ]
     },
     "metadata": {},
     "output_type": "display_data"
    },
    {
     "name": "stdout",
     "output_type": "stream",
     "text": [
      "\n",
      "===== Logistic Regression with Word2Vec =====\n",
      "Accuracy: 0.6265575833857773\n",
      "ROC AUC Score: 0.626677855219768\n",
      "F1 Score: 0.634920634920635\n",
      "Classification Report:\n",
      "               precision    recall  f1-score   support\n",
      "\n",
      "           0       0.64      0.60      0.62      3991\n",
      "           1       0.62      0.65      0.63      3954\n",
      "\n",
      "    accuracy                           0.63      7945\n",
      "   macro avg       0.63      0.63      0.63      7945\n",
      "weighted avg       0.63      0.63      0.63      7945\n",
      "\n"
     ]
    },
    {
     "data": {
      "image/png": "[encoded data removed]",
      "text/plain": [
       "<Figure size 640x480 with 2 Axes>"
      ]
     },
     "metadata": {},
     "output_type": "display_data"
    },
    {
     "name": "stdout",
     "output_type": "stream",
     "text": [
      "\n",
      "===== Naive Bayes with Word2Vec =====\n",
      "Accuracy: 0.5486469477658905\n",
      "ROC AUC Score: 0.5484296546339025\n",
      "F1 Score: 0.5252846174212337\n",
      "Classification Report:\n",
      "               precision    recall  f1-score   support\n",
      "\n",
      "           0       0.55      0.60      0.57      3991\n",
      "           1       0.55      0.50      0.53      3954\n",
      "\n",
      "    accuracy                           0.55      7945\n",
      "   macro avg       0.55      0.55      0.55      7945\n",
      "weighted avg       0.55      0.55      0.55      7945\n",
      "\n"
     ]
    },
    {
     "data": {
      "image/png": "[encoded data removed]",
      "text/plain": [
       "<Figure size 640x480 with 2 Axes>"
      ]
     },
     "metadata": {},
     "output_type": "display_data"
    },
    {
     "name": "stdout",
     "output_type": "stream",
     "text": [
      "\n",
      "===== SVM with Word2Vec =====\n",
      "Accuracy: 0.6323473882945249\n",
      "ROC AUC Score: 0.6324408218947869\n",
      "F1 Score: 0.6385348347976735\n",
      "Classification Report:\n",
      "               precision    recall  f1-score   support\n",
      "\n",
      "           0       0.64      0.61      0.63      3991\n",
      "           1       0.63      0.65      0.64      3954\n",
      "\n",
      "    accuracy                           0.63      7945\n",
      "   macro avg       0.63      0.63      0.63      7945\n",
      "weighted avg       0.63      0.63      0.63      7945\n",
      "\n"
     ]
    },
    {
     "data": {
      "image/png": "[encoded data removed]",
      "text/plain": [
       "<Figure size 640x480 with 2 Axes>"
      ]
     },
     "metadata": {},
     "output_type": "display_data"
    },
    {
     "name": "stdout",
     "output_type": "stream",
     "text": [
      "\n",
      "===== Random Forest with Word2Vec =====\n",
      "Accuracy: 0.6190056639395847\n",
      "ROC AUC Score: 0.6190495699289006\n",
      "F1 Score: 0.6214830561460549\n",
      "Classification Report:\n",
      "               precision    recall  f1-score   support\n",
      "\n",
      "           0       0.62      0.61      0.62      3991\n",
      "           1       0.61      0.63      0.62      3954\n",
      "\n",
      "    accuracy                           0.62      7945\n",
      "   macro avg       0.62      0.62      0.62      7945\n",
      "weighted avg       0.62      0.62      0.62      7945\n",
      "\n"
     ]
    },
    {
     "data": {
      "image/png": "[encoded data removed]",
      "text/plain": [
       "<Figure size 640x480 with 2 Axes>"
      ]
     },
     "metadata": {},
     "output_type": "display_data"
    }
   ],
   "source": [
    "for embedding, funct in embedding_functions.items():\n",
    "  x_train_embeding, x_test_embeding = funct(x_train, x_test)\n",
    "  for model_name, model in models.items():\n",
    "    print(f\"\\n===== {model_name} with {embedding} =====\")\n",
    "    evaluate_model(model,x_train_embeding,x_test_embeding,y_train,y_test)"
   ]
  }
 ],
 "metadata": {
  "colab": {
   "authorship_tag": "ABX9TyMMIl3EPQMxgmx1nvxNBFPF",
   "collapsed_sections": [
    "0jmaL8n6zv4L"
   ],
   "provenance": []
  },
  "kaggle": {
   "accelerator": "none",
   "dataSources": [
    {
     "datasetId": 7574995,
     "sourceId": 12038184,
     "sourceType": "datasetVersion"
    }
   ],
   "dockerImageVersionId": 31040,
   "isGpuEnabled": false,
   "isInternetEnabled": true,
   "language": "python",
   "sourceType": "notebook"
  },
  "kernelspec": {
   "display_name": "Python 3",
   "language": "python",
   "name": "python3"
  },
  "language_info": {
   "codemirror_mode": {
    "name": "ipython",
    "version": 3
   },
   "file_extension": ".py",
   "mimetype": "text/x-python",
   "name": "python",
   "nbconvert_exporter": "python",
   "pygments_lexer": "ipython3",
   "version": "3.11.11"
  },
  "papermill": {
   "default_parameters": {},
   "duration": 794.453982,
   "end_time": "2025-06-04T11:19:48.746959",
   "environment_variables": {},
   "exception": null,
   "input_path": "__notebook__.ipynb",
   "output_path": "__notebook__.ipynb",
   "parameters": {},
   "start_time": "2025-06-04T11:06:34.292977",
   "version": "2.6.0"
  }
 },
 "nbformat": 4,
 "nbformat_minor": 5
}
